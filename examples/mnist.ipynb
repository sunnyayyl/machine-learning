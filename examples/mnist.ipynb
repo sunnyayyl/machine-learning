{
 "cells": [
  {
   "cell_type": "code",
   "id": "initial_id",
   "metadata": {
    "collapsed": true,
    "ExecuteTime": {
     "end_time": "2024-09-06T14:42:38.167597Z",
     "start_time": "2024-09-06T14:42:35.546118Z"
    }
   },
   "source": [
    "from typing import Tuple\n",
    "\n",
    "import jax.numpy as jnp\n",
    "import jax\n",
    "import jaxtyping\n",
    "import typeguard\n",
    "from jaxtyping import Array, Float, PRNGKeyArray, PyTree, Int\n",
    "from jax import random\n",
    "from torchvision import datasets, transforms\n",
    "from torch.utils.data import DataLoader\n",
    "# from ml.activation import sigmoid, softmax, relu\n",
    "from jax.nn import sigmoid, relu\n",
    "\n",
    "from ml.activation import softmax\n",
    "from ml.cost import softmax_cross_entropy\n",
    "from ml.nn import Dense, partition, combine, Flatten\n",
    "import matplotlib.pyplot as plt\n",
    "from PIL import Image\n",
    "from functools import partial\n",
    "from jax import jit\n",
    "import optax"
   ],
   "outputs": [],
   "execution_count": 1
  },
  {
   "metadata": {
    "ExecuteTime": {
     "end_time": "2024-09-06T14:42:38.181782Z",
     "start_time": "2024-09-06T14:42:38.176295Z"
    }
   },
   "cell_type": "code",
   "source": [
    "\"\"\"%load_ext jaxtyping\n",
    "%jaxtyping.typechecker typeguard.typechecked\"\"\""
   ],
   "id": "b0af456ab7482481",
   "outputs": [
    {
     "data": {
      "text/plain": [
       "'%load_ext jaxtyping\\n%jaxtyping.typechecker typeguard.typechecked'"
      ]
     },
     "execution_count": 2,
     "metadata": {},
     "output_type": "execute_result"
    }
   ],
   "execution_count": 2
  },
  {
   "metadata": {
    "ExecuteTime": {
     "end_time": "2024-09-06T14:42:38.665627Z",
     "start_time": "2024-09-06T14:42:38.285858Z"
    }
   },
   "cell_type": "code",
   "source": [
    "BATCH_SIZE = 64\n",
    "LEARNING_RATE = 1 * 10 ** -4  # 3e-4\n",
    "EPOCHES = 1000\n",
    "PRINT_INTERVAL = 30\n",
    "SEED = 4567\n",
    "FloatScalar = Float[Array, \"\"]\n",
    "key = random.PRNGKey(SEED)"
   ],
   "id": "223a59f8e0b3db8c",
   "outputs": [
    {
     "name": "stderr",
     "output_type": "stream",
     "text": [
      "2024-09-06 15:42:38.541526: W external/xla/xla/service/gpu/nvptx_compiler.cc:836] The NVIDIA driver's CUDA version is 12.5 which is older than the PTX compiler version (12.6.20). Because the driver is older than the PTX compiler version, XLA is disabling parallel compilation, which may slow down compilation. You should update your NVIDIA driver or use the NVIDIA-provided CUDA forward compatibility packages.\n"
     ]
    }
   ],
   "execution_count": 3
  },
  {
   "metadata": {
    "ExecuteTime": {
     "end_time": "2024-09-06T14:42:38.827389Z",
     "start_time": "2024-09-06T14:42:38.758582Z"
    }
   },
   "cell_type": "code",
   "source": [
    "normalize_data = transforms.Compose([\n",
    "    transforms.ToTensor(),\n",
    "    transforms.Normalize((0.5,), (0.5,)),\n",
    "])\n",
    "training_dataset = datasets.MNIST(\n",
    "    root=\"data\",\n",
    "    train=True,\n",
    "    download=True,\n",
    "    transform=normalize_data\n",
    ")\n",
    "test_dataset = datasets.MNIST(\n",
    "    root=\"data\",\n",
    "    train=False,\n",
    "    download=True,\n",
    "    transform=normalize_data\n",
    ")"
   ],
   "id": "67afee376d8bbabf",
   "outputs": [],
   "execution_count": 4
  },
  {
   "metadata": {
    "ExecuteTime": {
     "end_time": "2024-09-06T14:42:40.128754Z",
     "start_time": "2024-09-06T14:42:38.833383Z"
    }
   },
   "cell_type": "code",
   "source": [
    "figure = plt.figure(figsize=(8, 8))\n",
    "rows, column = 3, 3\n",
    "for i in range(1, rows * column + 1):\n",
    "    key, sample_key = random.split(key)\n",
    "    sample_idx = int(random.randint(sample_key, shape=(1,), minval=0, maxval=len(training_dataset))[0])\n",
    "    img: Image.Image\n",
    "    label: str\n",
    "    (img, label) = training_dataset[sample_idx]\n",
    "    figure.add_subplot(rows, column, i)\n",
    "    plt.title(label)\n",
    "    plt.axis(\"off\")\n",
    "    plt.imshow(img.squeeze(), cmap=\"gray\")\n",
    "plt.show()"
   ],
   "id": "ea9e8618b15cbd90",
   "outputs": [
    {
     "ename": "TypeError",
     "evalue": "Invalid shape (784,) for image data",
     "output_type": "error",
     "traceback": [
      "\u001B[0;31m---------------------------------------------------------------------------\u001B[0m",
      "\u001B[0;31mTypeError\u001B[0m                                 Traceback (most recent call last)",
      "Cell \u001B[0;32mIn[5], line 12\u001B[0m\n\u001B[1;32m     10\u001B[0m     plt\u001B[38;5;241m.\u001B[39mtitle(label)\n\u001B[1;32m     11\u001B[0m     plt\u001B[38;5;241m.\u001B[39maxis(\u001B[38;5;124m\"\u001B[39m\u001B[38;5;124moff\u001B[39m\u001B[38;5;124m\"\u001B[39m)\n\u001B[0;32m---> 12\u001B[0m     \u001B[43mplt\u001B[49m\u001B[38;5;241;43m.\u001B[39;49m\u001B[43mimshow\u001B[49m\u001B[43m(\u001B[49m\u001B[43mimg\u001B[49m\u001B[38;5;241;43m.\u001B[39;49m\u001B[43msqueeze\u001B[49m\u001B[43m(\u001B[49m\u001B[43m)\u001B[49m\u001B[43m,\u001B[49m\u001B[43m \u001B[49m\u001B[43mcmap\u001B[49m\u001B[38;5;241;43m=\u001B[39;49m\u001B[38;5;124;43m\"\u001B[39;49m\u001B[38;5;124;43mgray\u001B[39;49m\u001B[38;5;124;43m\"\u001B[39;49m\u001B[43m)\u001B[49m\n\u001B[1;32m     13\u001B[0m plt\u001B[38;5;241m.\u001B[39mshow()\n",
      "File \u001B[0;32m~/.cache/pypoetry/virtualenvs/machinelearning-Cr8rVXQi-py3.12/lib64/python3.12/site-packages/matplotlib/pyplot.py:3562\u001B[0m, in \u001B[0;36mimshow\u001B[0;34m(X, cmap, norm, aspect, interpolation, alpha, vmin, vmax, origin, extent, interpolation_stage, filternorm, filterrad, resample, url, data, **kwargs)\u001B[0m\n\u001B[1;32m   3541\u001B[0m \u001B[38;5;129m@_copy_docstring_and_deprecators\u001B[39m(Axes\u001B[38;5;241m.\u001B[39mimshow)\n\u001B[1;32m   3542\u001B[0m \u001B[38;5;28;01mdef\u001B[39;00m \u001B[38;5;21mimshow\u001B[39m(\n\u001B[1;32m   3543\u001B[0m     X: ArrayLike \u001B[38;5;241m|\u001B[39m PIL\u001B[38;5;241m.\u001B[39mImage\u001B[38;5;241m.\u001B[39mImage,\n\u001B[0;32m   (...)\u001B[0m\n\u001B[1;32m   3560\u001B[0m     \u001B[38;5;241m*\u001B[39m\u001B[38;5;241m*\u001B[39mkwargs,\n\u001B[1;32m   3561\u001B[0m ) \u001B[38;5;241m-\u001B[39m\u001B[38;5;241m>\u001B[39m AxesImage:\n\u001B[0;32m-> 3562\u001B[0m     __ret \u001B[38;5;241m=\u001B[39m \u001B[43mgca\u001B[49m\u001B[43m(\u001B[49m\u001B[43m)\u001B[49m\u001B[38;5;241;43m.\u001B[39;49m\u001B[43mimshow\u001B[49m\u001B[43m(\u001B[49m\n\u001B[1;32m   3563\u001B[0m \u001B[43m        \u001B[49m\u001B[43mX\u001B[49m\u001B[43m,\u001B[49m\n\u001B[1;32m   3564\u001B[0m \u001B[43m        \u001B[49m\u001B[43mcmap\u001B[49m\u001B[38;5;241;43m=\u001B[39;49m\u001B[43mcmap\u001B[49m\u001B[43m,\u001B[49m\n\u001B[1;32m   3565\u001B[0m \u001B[43m        \u001B[49m\u001B[43mnorm\u001B[49m\u001B[38;5;241;43m=\u001B[39;49m\u001B[43mnorm\u001B[49m\u001B[43m,\u001B[49m\n\u001B[1;32m   3566\u001B[0m \u001B[43m        \u001B[49m\u001B[43maspect\u001B[49m\u001B[38;5;241;43m=\u001B[39;49m\u001B[43maspect\u001B[49m\u001B[43m,\u001B[49m\n\u001B[1;32m   3567\u001B[0m \u001B[43m        \u001B[49m\u001B[43minterpolation\u001B[49m\u001B[38;5;241;43m=\u001B[39;49m\u001B[43minterpolation\u001B[49m\u001B[43m,\u001B[49m\n\u001B[1;32m   3568\u001B[0m \u001B[43m        \u001B[49m\u001B[43malpha\u001B[49m\u001B[38;5;241;43m=\u001B[39;49m\u001B[43malpha\u001B[49m\u001B[43m,\u001B[49m\n\u001B[1;32m   3569\u001B[0m \u001B[43m        \u001B[49m\u001B[43mvmin\u001B[49m\u001B[38;5;241;43m=\u001B[39;49m\u001B[43mvmin\u001B[49m\u001B[43m,\u001B[49m\n\u001B[1;32m   3570\u001B[0m \u001B[43m        \u001B[49m\u001B[43mvmax\u001B[49m\u001B[38;5;241;43m=\u001B[39;49m\u001B[43mvmax\u001B[49m\u001B[43m,\u001B[49m\n\u001B[1;32m   3571\u001B[0m \u001B[43m        \u001B[49m\u001B[43morigin\u001B[49m\u001B[38;5;241;43m=\u001B[39;49m\u001B[43morigin\u001B[49m\u001B[43m,\u001B[49m\n\u001B[1;32m   3572\u001B[0m \u001B[43m        \u001B[49m\u001B[43mextent\u001B[49m\u001B[38;5;241;43m=\u001B[39;49m\u001B[43mextent\u001B[49m\u001B[43m,\u001B[49m\n\u001B[1;32m   3573\u001B[0m \u001B[43m        \u001B[49m\u001B[43minterpolation_stage\u001B[49m\u001B[38;5;241;43m=\u001B[39;49m\u001B[43minterpolation_stage\u001B[49m\u001B[43m,\u001B[49m\n\u001B[1;32m   3574\u001B[0m \u001B[43m        \u001B[49m\u001B[43mfilternorm\u001B[49m\u001B[38;5;241;43m=\u001B[39;49m\u001B[43mfilternorm\u001B[49m\u001B[43m,\u001B[49m\n\u001B[1;32m   3575\u001B[0m \u001B[43m        \u001B[49m\u001B[43mfilterrad\u001B[49m\u001B[38;5;241;43m=\u001B[39;49m\u001B[43mfilterrad\u001B[49m\u001B[43m,\u001B[49m\n\u001B[1;32m   3576\u001B[0m \u001B[43m        \u001B[49m\u001B[43mresample\u001B[49m\u001B[38;5;241;43m=\u001B[39;49m\u001B[43mresample\u001B[49m\u001B[43m,\u001B[49m\n\u001B[1;32m   3577\u001B[0m \u001B[43m        \u001B[49m\u001B[43murl\u001B[49m\u001B[38;5;241;43m=\u001B[39;49m\u001B[43murl\u001B[49m\u001B[43m,\u001B[49m\n\u001B[1;32m   3578\u001B[0m \u001B[43m        \u001B[49m\u001B[38;5;241;43m*\u001B[39;49m\u001B[38;5;241;43m*\u001B[39;49m\u001B[43m(\u001B[49m\u001B[43m{\u001B[49m\u001B[38;5;124;43m\"\u001B[39;49m\u001B[38;5;124;43mdata\u001B[39;49m\u001B[38;5;124;43m\"\u001B[39;49m\u001B[43m:\u001B[49m\u001B[43m \u001B[49m\u001B[43mdata\u001B[49m\u001B[43m}\u001B[49m\u001B[43m \u001B[49m\u001B[38;5;28;43;01mif\u001B[39;49;00m\u001B[43m \u001B[49m\u001B[43mdata\u001B[49m\u001B[43m \u001B[49m\u001B[38;5;129;43;01mis\u001B[39;49;00m\u001B[43m \u001B[49m\u001B[38;5;129;43;01mnot\u001B[39;49;00m\u001B[43m \u001B[49m\u001B[38;5;28;43;01mNone\u001B[39;49;00m\u001B[43m \u001B[49m\u001B[38;5;28;43;01melse\u001B[39;49;00m\u001B[43m \u001B[49m\u001B[43m{\u001B[49m\u001B[43m}\u001B[49m\u001B[43m)\u001B[49m\u001B[43m,\u001B[49m\n\u001B[1;32m   3579\u001B[0m \u001B[43m        \u001B[49m\u001B[38;5;241;43m*\u001B[39;49m\u001B[38;5;241;43m*\u001B[39;49m\u001B[43mkwargs\u001B[49m\u001B[43m,\u001B[49m\n\u001B[1;32m   3580\u001B[0m \u001B[43m    \u001B[49m\u001B[43m)\u001B[49m\n\u001B[1;32m   3581\u001B[0m     sci(__ret)\n\u001B[1;32m   3582\u001B[0m     \u001B[38;5;28;01mreturn\u001B[39;00m __ret\n",
      "File \u001B[0;32m~/.cache/pypoetry/virtualenvs/machinelearning-Cr8rVXQi-py3.12/lib64/python3.12/site-packages/matplotlib/__init__.py:1473\u001B[0m, in \u001B[0;36m_preprocess_data.<locals>.inner\u001B[0;34m(ax, data, *args, **kwargs)\u001B[0m\n\u001B[1;32m   1470\u001B[0m \u001B[38;5;129m@functools\u001B[39m\u001B[38;5;241m.\u001B[39mwraps(func)\n\u001B[1;32m   1471\u001B[0m \u001B[38;5;28;01mdef\u001B[39;00m \u001B[38;5;21minner\u001B[39m(ax, \u001B[38;5;241m*\u001B[39margs, data\u001B[38;5;241m=\u001B[39m\u001B[38;5;28;01mNone\u001B[39;00m, \u001B[38;5;241m*\u001B[39m\u001B[38;5;241m*\u001B[39mkwargs):\n\u001B[1;32m   1472\u001B[0m     \u001B[38;5;28;01mif\u001B[39;00m data \u001B[38;5;129;01mis\u001B[39;00m \u001B[38;5;28;01mNone\u001B[39;00m:\n\u001B[0;32m-> 1473\u001B[0m         \u001B[38;5;28;01mreturn\u001B[39;00m \u001B[43mfunc\u001B[49m\u001B[43m(\u001B[49m\n\u001B[1;32m   1474\u001B[0m \u001B[43m            \u001B[49m\u001B[43max\u001B[49m\u001B[43m,\u001B[49m\n\u001B[1;32m   1475\u001B[0m \u001B[43m            \u001B[49m\u001B[38;5;241;43m*\u001B[39;49m\u001B[38;5;28;43mmap\u001B[39;49m\u001B[43m(\u001B[49m\u001B[43msanitize_sequence\u001B[49m\u001B[43m,\u001B[49m\u001B[43m \u001B[49m\u001B[43margs\u001B[49m\u001B[43m)\u001B[49m\u001B[43m,\u001B[49m\n\u001B[1;32m   1476\u001B[0m \u001B[43m            \u001B[49m\u001B[38;5;241;43m*\u001B[39;49m\u001B[38;5;241;43m*\u001B[39;49m\u001B[43m{\u001B[49m\u001B[43mk\u001B[49m\u001B[43m:\u001B[49m\u001B[43m \u001B[49m\u001B[43msanitize_sequence\u001B[49m\u001B[43m(\u001B[49m\u001B[43mv\u001B[49m\u001B[43m)\u001B[49m\u001B[43m \u001B[49m\u001B[38;5;28;43;01mfor\u001B[39;49;00m\u001B[43m \u001B[49m\u001B[43mk\u001B[49m\u001B[43m,\u001B[49m\u001B[43m \u001B[49m\u001B[43mv\u001B[49m\u001B[43m \u001B[49m\u001B[38;5;129;43;01min\u001B[39;49;00m\u001B[43m \u001B[49m\u001B[43mkwargs\u001B[49m\u001B[38;5;241;43m.\u001B[39;49m\u001B[43mitems\u001B[49m\u001B[43m(\u001B[49m\u001B[43m)\u001B[49m\u001B[43m}\u001B[49m\u001B[43m)\u001B[49m\n\u001B[1;32m   1478\u001B[0m     bound \u001B[38;5;241m=\u001B[39m new_sig\u001B[38;5;241m.\u001B[39mbind(ax, \u001B[38;5;241m*\u001B[39margs, \u001B[38;5;241m*\u001B[39m\u001B[38;5;241m*\u001B[39mkwargs)\n\u001B[1;32m   1479\u001B[0m     auto_label \u001B[38;5;241m=\u001B[39m (bound\u001B[38;5;241m.\u001B[39marguments\u001B[38;5;241m.\u001B[39mget(label_namer)\n\u001B[1;32m   1480\u001B[0m                   \u001B[38;5;129;01mor\u001B[39;00m bound\u001B[38;5;241m.\u001B[39mkwargs\u001B[38;5;241m.\u001B[39mget(label_namer))\n",
      "File \u001B[0;32m~/.cache/pypoetry/virtualenvs/machinelearning-Cr8rVXQi-py3.12/lib64/python3.12/site-packages/matplotlib/axes/_axes.py:5895\u001B[0m, in \u001B[0;36mAxes.imshow\u001B[0;34m(self, X, cmap, norm, aspect, interpolation, alpha, vmin, vmax, origin, extent, interpolation_stage, filternorm, filterrad, resample, url, **kwargs)\u001B[0m\n\u001B[1;32m   5892\u001B[0m \u001B[38;5;28;01mif\u001B[39;00m aspect \u001B[38;5;129;01mis\u001B[39;00m \u001B[38;5;129;01mnot\u001B[39;00m \u001B[38;5;28;01mNone\u001B[39;00m:\n\u001B[1;32m   5893\u001B[0m     \u001B[38;5;28mself\u001B[39m\u001B[38;5;241m.\u001B[39mset_aspect(aspect)\n\u001B[0;32m-> 5895\u001B[0m \u001B[43mim\u001B[49m\u001B[38;5;241;43m.\u001B[39;49m\u001B[43mset_data\u001B[49m\u001B[43m(\u001B[49m\u001B[43mX\u001B[49m\u001B[43m)\u001B[49m\n\u001B[1;32m   5896\u001B[0m im\u001B[38;5;241m.\u001B[39mset_alpha(alpha)\n\u001B[1;32m   5897\u001B[0m \u001B[38;5;28;01mif\u001B[39;00m im\u001B[38;5;241m.\u001B[39mget_clip_path() \u001B[38;5;129;01mis\u001B[39;00m \u001B[38;5;28;01mNone\u001B[39;00m:\n\u001B[1;32m   5898\u001B[0m     \u001B[38;5;66;03m# image does not already have clipping set, clip to Axes patch\u001B[39;00m\n",
      "File \u001B[0;32m~/.cache/pypoetry/virtualenvs/machinelearning-Cr8rVXQi-py3.12/lib64/python3.12/site-packages/matplotlib/image.py:729\u001B[0m, in \u001B[0;36m_ImageBase.set_data\u001B[0;34m(self, A)\u001B[0m\n\u001B[1;32m    727\u001B[0m \u001B[38;5;28;01mif\u001B[39;00m \u001B[38;5;28misinstance\u001B[39m(A, PIL\u001B[38;5;241m.\u001B[39mImage\u001B[38;5;241m.\u001B[39mImage):\n\u001B[1;32m    728\u001B[0m     A \u001B[38;5;241m=\u001B[39m pil_to_array(A)  \u001B[38;5;66;03m# Needed e.g. to apply png palette.\u001B[39;00m\n\u001B[0;32m--> 729\u001B[0m \u001B[38;5;28mself\u001B[39m\u001B[38;5;241m.\u001B[39m_A \u001B[38;5;241m=\u001B[39m \u001B[38;5;28;43mself\u001B[39;49m\u001B[38;5;241;43m.\u001B[39;49m\u001B[43m_normalize_image_array\u001B[49m\u001B[43m(\u001B[49m\u001B[43mA\u001B[49m\u001B[43m)\u001B[49m\n\u001B[1;32m    730\u001B[0m \u001B[38;5;28mself\u001B[39m\u001B[38;5;241m.\u001B[39m_imcache \u001B[38;5;241m=\u001B[39m \u001B[38;5;28;01mNone\u001B[39;00m\n\u001B[1;32m    731\u001B[0m \u001B[38;5;28mself\u001B[39m\u001B[38;5;241m.\u001B[39mstale \u001B[38;5;241m=\u001B[39m \u001B[38;5;28;01mTrue\u001B[39;00m\n",
      "File \u001B[0;32m~/.cache/pypoetry/virtualenvs/machinelearning-Cr8rVXQi-py3.12/lib64/python3.12/site-packages/matplotlib/image.py:697\u001B[0m, in \u001B[0;36m_ImageBase._normalize_image_array\u001B[0;34m(A)\u001B[0m\n\u001B[1;32m    695\u001B[0m     A \u001B[38;5;241m=\u001B[39m A\u001B[38;5;241m.\u001B[39msqueeze(\u001B[38;5;241m-\u001B[39m\u001B[38;5;241m1\u001B[39m)  \u001B[38;5;66;03m# If just (M, N, 1), assume scalar and apply colormap.\u001B[39;00m\n\u001B[1;32m    696\u001B[0m \u001B[38;5;28;01mif\u001B[39;00m \u001B[38;5;129;01mnot\u001B[39;00m (A\u001B[38;5;241m.\u001B[39mndim \u001B[38;5;241m==\u001B[39m \u001B[38;5;241m2\u001B[39m \u001B[38;5;129;01mor\u001B[39;00m A\u001B[38;5;241m.\u001B[39mndim \u001B[38;5;241m==\u001B[39m \u001B[38;5;241m3\u001B[39m \u001B[38;5;129;01mand\u001B[39;00m A\u001B[38;5;241m.\u001B[39mshape[\u001B[38;5;241m-\u001B[39m\u001B[38;5;241m1\u001B[39m] \u001B[38;5;129;01min\u001B[39;00m [\u001B[38;5;241m3\u001B[39m, \u001B[38;5;241m4\u001B[39m]):\n\u001B[0;32m--> 697\u001B[0m     \u001B[38;5;28;01mraise\u001B[39;00m \u001B[38;5;167;01mTypeError\u001B[39;00m(\u001B[38;5;124mf\u001B[39m\u001B[38;5;124m\"\u001B[39m\u001B[38;5;124mInvalid shape \u001B[39m\u001B[38;5;132;01m{\u001B[39;00mA\u001B[38;5;241m.\u001B[39mshape\u001B[38;5;132;01m}\u001B[39;00m\u001B[38;5;124m for image data\u001B[39m\u001B[38;5;124m\"\u001B[39m)\n\u001B[1;32m    698\u001B[0m \u001B[38;5;28;01mif\u001B[39;00m A\u001B[38;5;241m.\u001B[39mndim \u001B[38;5;241m==\u001B[39m \u001B[38;5;241m3\u001B[39m:\n\u001B[1;32m    699\u001B[0m     \u001B[38;5;66;03m# If the input data has values outside the valid range (after\u001B[39;00m\n\u001B[1;32m    700\u001B[0m     \u001B[38;5;66;03m# normalisation), we issue a warning and then clip X to the bounds\u001B[39;00m\n\u001B[1;32m    701\u001B[0m     \u001B[38;5;66;03m# - otherwise casting wraps extreme values, hiding outliers and\u001B[39;00m\n\u001B[1;32m    702\u001B[0m     \u001B[38;5;66;03m# making reliable interpretation impossible.\u001B[39;00m\n\u001B[1;32m    703\u001B[0m     high \u001B[38;5;241m=\u001B[39m \u001B[38;5;241m255\u001B[39m \u001B[38;5;28;01mif\u001B[39;00m np\u001B[38;5;241m.\u001B[39missubdtype(A\u001B[38;5;241m.\u001B[39mdtype, np\u001B[38;5;241m.\u001B[39minteger) \u001B[38;5;28;01melse\u001B[39;00m \u001B[38;5;241m1\u001B[39m\n",
      "\u001B[0;31mTypeError\u001B[0m: Invalid shape (784,) for image data"
     ]
    },
    {
     "data": {
      "text/plain": [
       "<Figure size 800x800 with 1 Axes>"
      ],
      "image/png": "[encoded data removed]"
     },
     "metadata": {},
     "output_type": "display_data"
    }
   ],
   "execution_count": 5
  },
  {
   "metadata": {
    "ExecuteTime": {
     "end_time": "2024-09-06T14:43:06.647244Z",
     "start_time": "2024-09-06T14:43:06.644694Z"
    }
   },
   "cell_type": "code",
   "source": [
    "trainloader = DataLoader(training_dataset, batch_size=BATCH_SIZE, shuffle=True)\n",
    "testloader = DataLoader(test_dataset, batch_size=BATCH_SIZE, shuffle=False)"
   ],
   "id": "8c478e4a7209920e",
   "outputs": [],
   "execution_count": 6
  },
  {
   "metadata": {
    "ExecuteTime": {
     "end_time": "2024-09-06T14:43:06.781066Z",
     "start_time": "2024-09-06T14:43:06.764927Z"
    }
   },
   "cell_type": "code",
   "source": [
    "_x, _y = next(iter(trainloader))\n",
    "_x, _y = _x.numpy(), _y.numpy()\n",
    "print(f\"x.shape: {_x.shape}\")\n",
    "print(f\"y.shape: {_y.shape}\")\n",
    "print(f\"y values: {set(map(int, set(_y)))}\")"
   ],
   "id": "467e078eb419b31b",
   "outputs": [
    {
     "name": "stdout",
     "output_type": "stream",
     "text": [
      "x.shape: (64, 784)\n",
      "y.shape: (64,)\n",
      "y values: {0, 1, 2, 3, 4, 5, 6, 7, 8, 9}\n"
     ]
    }
   ],
   "execution_count": 7
  },
  {
   "metadata": {
    "ExecuteTime": {
     "end_time": "2024-09-06T14:43:07.019490Z",
     "start_time": "2024-09-06T14:43:07.015138Z"
    }
   },
   "cell_type": "code",
   "source": [
    "@jax.tree_util.register_pytree_node_class\n",
    "class Model:\n",
    "    def __init__(self, key: PRNGKeyArray):\n",
    "        key1, key2, key3, key4 = random.split(key, 4)\n",
    "        self.layers = [\n",
    "            #Flatten(),\n",
    "            Dense(28 * 28, 256, key=key1, activation=relu),\n",
    "            Dense(256, 10, key=key4, activation=jax.nn.log_sigmoid),\n",
    "        ]\n",
    "\n",
    "    def __call__(self, x: Float[Array, \"1 28 28\"]) -> Float[Array, \"10\"]:\n",
    "        for layer in self.layers:\n",
    "            x = layer(x)\n",
    "        return x\n",
    "\n",
    "    def __repr__(self):\n",
    "        return f\"Model({self.layers})\"\n",
    "\n",
    "    def tree_flatten(self):\n",
    "        return self.layers, None\n",
    "\n",
    "    @classmethod\n",
    "    def tree_unflatten(cls, _aux_data, children):\n",
    "        del _aux_data\n",
    "        model = cls.__new__(cls)\n",
    "        model.layers = children\n",
    "        return model"
   ],
   "id": "750b860db4b6e2de",
   "outputs": [],
   "execution_count": 8
  },
  {
   "metadata": {
    "ExecuteTime": {
     "end_time": "2024-09-06T14:43:08.586650Z",
     "start_time": "2024-09-06T14:43:07.463441Z"
    }
   },
   "cell_type": "code",
   "source": [
    "key, subkey = random.split(key)\n",
    "model = Model(subkey)\n",
    "model"
   ],
   "id": "d3abbe48079b1170",
   "outputs": [
    {
     "data": {
      "text/plain": [
       "Model([Dense(units=256, w.shape=(256, 784), b.shape=(256,), activation=<jax._src.custom_derivatives.custom_jvp object at 0x7f2c2015c1d0>), Dense(units=10, w.shape=(10, 256), b.shape=(10,), activation=<PjitFunction of <function log_sigmoid at 0x7f2c20162480>>)])"
      ]
     },
     "execution_count": 9,
     "metadata": {},
     "output_type": "execute_result"
    }
   ],
   "execution_count": 9
  },
  {
   "metadata": {
    "ExecuteTime": {
     "end_time": "2024-09-06T14:43:08.617268Z",
     "start_time": "2024-09-06T14:43:08.611447Z"
    }
   },
   "cell_type": "code",
   "source": "jax.tree.flatten(model)",
   "id": "fae04cd6510c7dc8",
   "outputs": [
    {
     "data": {
      "text/plain": [
       "([256,\n",
       "  Array([[-0.9618722 , -0.39984876,  1.120765  , ...,  0.27563986,\n",
       "           0.7467378 , -0.45333678],\n",
       "         [-0.4979763 , -0.2562582 ,  0.94858146, ..., -0.6226083 ,\n",
       "           1.4276365 ,  1.4007825 ],\n",
       "         [ 1.2089579 , -0.31922126,  1.0280087 , ..., -1.5477383 ,\n",
       "          -1.8612546 ,  1.1709294 ],\n",
       "         ...,\n",
       "         [ 0.12749602,  0.13316132,  0.45601392, ...,  3.125076  ,\n",
       "           0.5163779 , -0.62032515],\n",
       "         [-0.25030464, -0.4953383 , -1.4128605 , ...,  1.0755725 ,\n",
       "          -1.0251373 ,  0.1451267 ],\n",
       "         [-0.73438394, -0.6407877 ,  1.2557353 , ..., -2.0570147 ,\n",
       "           1.9970965 ,  0.24062152]], dtype=float32),\n",
       "  Array([ 1.1679052 , -0.57643586,  0.19118276, -0.13431379,  1.3862588 ,\n",
       "         -1.0855845 , -0.29239202,  0.10064603,  0.24616094, -0.32994908,\n",
       "         -0.78263813,  0.32451466, -0.48307243, -0.34692234,  0.7403934 ,\n",
       "         -0.15749788,  1.1671768 ,  0.18472195,  0.93595326,  0.0617667 ,\n",
       "         -0.36447927,  0.16116439, -0.33145547, -0.8961157 ,  1.5458579 ,\n",
       "          0.4854285 ,  0.34898633,  0.7734717 ,  1.1581777 , -0.4278677 ,\n",
       "          0.55921024, -0.98806864, -0.8154387 ,  1.1202337 ,  0.4113966 ,\n",
       "         -1.1592228 , -1.7162793 ,  1.2745824 ,  0.5751477 ,  2.9949799 ,\n",
       "         -1.0148908 , -0.02644709,  0.34669214,  0.01841071,  0.14510918,\n",
       "         -1.0450871 ,  0.42645627,  1.205704  , -1.1797388 , -0.4852885 ,\n",
       "         -0.4971329 ,  0.80872595, -0.696294  ,  0.7402507 , -2.8731203 ,\n",
       "          0.64992887, -0.5148849 ,  1.873896  , -2.131005  , -0.01439008,\n",
       "         -1.2496003 , -1.060119  ,  0.00880383, -0.5551412 , -0.09743495,\n",
       "         -1.8864118 ,  0.7999593 ,  0.6147916 , -1.4693751 ,  1.8618689 ,\n",
       "          0.84606594,  0.9328392 ,  0.4975696 , -0.61286926, -1.5084487 ,\n",
       "          0.03314753,  0.343533  , -1.8453424 ,  0.7701894 ,  0.83271426,\n",
       "          0.9813266 , -1.48365   , -0.33854628,  0.3349817 , -0.869148  ,\n",
       "          0.5911838 , -0.09712362, -1.1040552 , -0.44585708,  1.5079116 ,\n",
       "         -0.25986746, -0.7591449 ,  0.71060556, -2.3380587 ,  0.6662604 ,\n",
       "         -0.4327007 ,  0.19636405, -0.23300217,  0.2940517 ,  0.47961038,\n",
       "         -0.74043995, -1.4213853 ,  1.8981522 , -0.3843457 ,  0.7026808 ,\n",
       "          0.5094783 ,  0.2791744 , -1.531583  , -0.1189238 , -0.4216706 ,\n",
       "         -0.10500345,  0.2927028 , -0.9897195 ,  1.1265413 , -0.7054595 ,\n",
       "         -0.5833066 ,  0.48381984,  1.1567466 , -1.2735595 ,  0.7991809 ,\n",
       "         -0.00468384, -1.8379682 , -0.27683023,  0.34592494,  0.74544984,\n",
       "         -0.54549694,  0.28478172,  0.63063973, -0.29843193,  0.11044059,\n",
       "          1.1160172 ,  0.5850877 , -2.4986503 , -1.2748405 , -0.70191854,\n",
       "          0.9047759 ,  0.6767138 ,  0.6074155 ,  0.5719508 , -0.38566154,\n",
       "          0.41000545,  0.8219818 ,  0.96679354,  1.018739  , -0.24695827,\n",
       "          0.7194767 ,  1.4477341 , -2.0721142 , -1.3519945 , -0.18846203,\n",
       "          0.25526512, -0.77480006, -0.24250668,  0.33297193,  0.9880801 ,\n",
       "         -1.2377515 , -1.7333745 ,  0.68750054, -1.253381  , -1.61924   ,\n",
       "          0.5930827 ,  1.5497652 ,  0.7888122 , -1.5482918 , -1.0411595 ,\n",
       "          0.29524192, -0.3826411 ,  1.4419187 , -0.49414986,  0.8161158 ,\n",
       "         -0.22284071,  1.1005532 , -0.87733024, -1.4534147 ,  1.143645  ,\n",
       "         -1.1057656 , -0.34851077, -0.7049372 , -1.037466  , -0.02750139,\n",
       "         -1.2589837 , -0.43074352,  0.1338237 , -0.1414096 ,  0.08961328,\n",
       "         -0.35713282, -0.32164523, -0.09016037,  1.3633413 , -1.8433598 ,\n",
       "         -0.5692848 , -0.13576485, -0.28977272, -0.6647508 , -0.20045763,\n",
       "          0.28483868,  0.9905251 ,  0.340036  ,  0.40122497,  1.0661055 ,\n",
       "          0.251715  , -0.6541901 , -0.7220166 , -2.281253  , -0.24002497,\n",
       "          0.42022893, -0.6180126 ,  0.7157016 , -0.9128203 ,  0.8787302 ,\n",
       "         -0.25310057,  0.8171188 ,  0.12988861, -0.9928232 ,  1.6653184 ,\n",
       "         -1.5954634 ,  0.24370903,  0.37031132, -1.3254465 , -1.1294234 ,\n",
       "         -0.9944829 , -1.3036476 ,  1.426261  ,  0.22619578, -0.11123688,\n",
       "         -1.8313446 , -0.9208332 , -1.5381192 , -0.15775594, -0.2825418 ,\n",
       "          0.2687853 ,  0.18265513,  0.16107328, -0.44113952,  1.0594491 ,\n",
       "         -1.7490602 ,  0.18615954,  0.21452929,  0.11877137, -0.5372714 ,\n",
       "          1.397534  ,  0.33959565,  0.42191666,  1.0367972 , -1.1518394 ,\n",
       "          1.9204663 , -0.41198936,  0.0706355 ,  1.2372462 ,  0.12595767,\n",
       "         -2.1046445 , -0.7080291 ,  0.13512719,  1.047158  ,  1.962648  ,\n",
       "          0.4320621 ], dtype=float32),\n",
       "  True,\n",
       "  <jax._src.custom_derivatives.custom_jvp at 0x7f2c2015c1d0>,\n",
       "  10,\n",
       "  Array([[ 0.31841344, -0.28364566,  0.93150246, ...,  0.6423392 ,\n",
       "          -0.84715605,  1.3805236 ],\n",
       "         [-0.06245933, -2.503396  , -0.38665345, ..., -1.3413899 ,\n",
       "           0.08784661,  0.71105254],\n",
       "         [-0.21208242,  0.91559064,  0.04708415, ..., -0.47722173,\n",
       "          -0.23170084, -1.0912762 ],\n",
       "         ...,\n",
       "         [-0.10328253,  1.500601  ,  0.91901124, ..., -2.863092  ,\n",
       "           1.2168186 ,  0.36090964],\n",
       "         [-0.25708923, -1.0512546 ,  0.7534251 , ..., -1.8426236 ,\n",
       "          -1.636679  ,  0.6932188 ],\n",
       "         [ 0.18459518, -1.4920831 , -0.26703048, ...,  0.5660823 ,\n",
       "          -0.3408005 , -1.3818976 ]], dtype=float32),\n",
       "  Array([-0.80596143,  1.0958979 ,  1.5661803 , -1.0087109 , -0.04203412,\n",
       "          0.0120285 ,  0.9211233 , -1.2028984 , -1.4150406 , -0.6350626 ],      dtype=float32),\n",
       "  True,\n",
       "  <PjitFunction of <function log_sigmoid at 0x7f2c20162480>>],\n",
       " PyTreeDef(CustomNode(Model[None], [CustomNode(Dense[None], [*, *, *, *, *]), CustomNode(Dense[None], [*, *, *, *, *])])))"
      ]
     },
     "execution_count": 10,
     "metadata": {},
     "output_type": "execute_result"
    }
   ],
   "execution_count": 10
  },
  {
   "metadata": {
    "ExecuteTime": {
     "end_time": "2024-09-06T14:43:08.667639Z",
     "start_time": "2024-09-06T14:43:08.664539Z"
    }
   },
   "cell_type": "code",
   "source": [
    "params, static = partition(model)\n",
    "print(params)"
   ],
   "id": "2ee8841fe2c6782d",
   "outputs": [
    {
     "name": "stdout",
     "output_type": "stream",
     "text": [
      "Model((Dense(units=None, w.shape=(256, 784), activation=None), Dense(units=None, w.shape=(10, 256), activation=None)))\n"
     ]
    }
   ],
   "execution_count": 11
  },
  {
   "metadata": {
    "ExecuteTime": {
     "end_time": "2024-09-06T14:43:08.723540Z",
     "start_time": "2024-09-06T14:43:08.720851Z"
    }
   },
   "cell_type": "code",
   "source": "print(static)",
   "id": "8db627ffdbc383d0",
   "outputs": [
    {
     "name": "stdout",
     "output_type": "stream",
     "text": [
      "Model((Dense(units=256, w.shape=None, b.shape=None, activation=<jax._src.custom_derivatives.custom_jvp object at 0x7f2c2015c1d0>), Dense(units=10, w.shape=None, b.shape=None, activation=<PjitFunction of <function log_sigmoid at 0x7f2c20162480>>)))\n"
     ]
    }
   ],
   "execution_count": 12
  },
  {
   "metadata": {
    "ExecuteTime": {
     "end_time": "2024-09-06T14:43:08.844758Z",
     "start_time": "2024-09-06T14:43:08.839346Z"
    }
   },
   "cell_type": "code",
   "source": [
    "@partial(jit, static_argnames=(\"static\",))\n",
    "def loss(params: PyTree, static: PyTree, x: Float[Array, \"batch 1 28 28\"], y: Int[Array, \"batch\"]) -> FloatScalar:\n",
    "    model = combine(params, static)\n",
    "    y_pred = jax.vmap(model)(x)\n",
    "    #return jnp.mean(softmax_cross_entropy(y_pred, y.reshape(-1, 1)))\n",
    "    return optax.softmax_cross_entropy_with_integer_labels(y_pred, y).mean()\n",
    "\n",
    "\n",
    "@partial(jit, static_argnames=(\"static\",))\n",
    "def accuracy(params: PyTree, static: PyTree, x: Float[Array, \"batch 1 28 28\"], y: Int[Array, \"batch\"]) -> FloatScalar:\n",
    "    model = combine(params, static)\n",
    "    y_pred = jax.vmap(model)(x)\n",
    "    return jnp.mean(jnp.argmax(y_pred, axis=1) == y)\n",
    "\n",
    "\n",
    "def evaluation(model: Model, testloader: DataLoader) -> tuple[FloatScalar, FloatScalar]:\n",
    "    avg_loss = 0\n",
    "    avg_accuarcy = 0\n",
    "    params, static = partition(model)\n",
    "    for x, y in testloader:\n",
    "        x, y = x.numpy(), y.numpy()\n",
    "        avg_loss += loss(params, static, x, y)\n",
    "        avg_accuarcy += accuracy(params, static, x, y)\n",
    "    return avg_loss / len(testloader), avg_accuarcy / len(testloader)\n"
   ],
   "id": "20a6a7a72480d9ad",
   "outputs": [],
   "execution_count": 13
  },
  {
   "metadata": {
    "ExecuteTime": {
     "end_time": "2024-09-06T14:43:09.896712Z",
     "start_time": "2024-09-06T14:43:08.897192Z"
    }
   },
   "cell_type": "code",
   "source": [
    "loss(params, static, _x, _y, ), accuracy(params, static,\n",
    "                                         _x,\n",
    "                                         _y)"
   ],
   "id": "30f9f334d036e299",
   "outputs": [
    {
     "data": {
      "text/plain": [
       "(Array(83.72337, dtype=float32), Array(0.078125, dtype=float32))"
      ]
     },
     "execution_count": 14,
     "metadata": {},
     "output_type": "execute_result"
    }
   ],
   "execution_count": 14
  },
  {
   "metadata": {
    "ExecuteTime": {
     "end_time": "2024-09-06T14:43:10.766727Z",
     "start_time": "2024-09-06T14:43:09.910273Z"
    }
   },
   "cell_type": "code",
   "source": [
    "value, grad = jax.value_and_grad(loss)(params, static, _x, _y)\n",
    "print(value)\n",
    "print(grad.layers[1].w)"
   ],
   "id": "3b7baf99ad37d5a",
   "outputs": [
    {
     "name": "stdout",
     "output_type": "stream",
     "text": [
      "83.72337\n",
      "[[-7.8954983e-01  0.0000000e+00  6.9736824e-03 ... -2.9556367e-01\n",
      "   8.0942882e-05 -7.8295775e-02]\n",
      " [ 1.5044270e-06  5.1989663e-12  3.9157936e-18 ...  5.0577629e-11\n",
      "   7.7321614e-15  7.9996676e-09]\n",
      " [ 7.4194395e-06  2.2107329e-36  8.8996172e-36 ...  0.0000000e+00\n",
      "   6.4833330e-07  7.5950578e-05]\n",
      " ...\n",
      " [ 4.4405460e-03  2.4399426e-30 -5.8471680e-02 ...  8.5309148e-04\n",
      "   1.6260903e-03 -9.9540591e-02]\n",
      " [-1.8597357e-01  1.3075786e-10 -3.7573242e-01 ... -1.2438254e-02\n",
      "   4.6222845e-10 -4.5825195e-01]\n",
      " [-5.4486084e-01 -6.1798096e-03 -7.9939216e-01 ... -3.3734056e-01\n",
      "  -1.0472412e+00 -7.8468508e-01]]\n"
     ]
    }
   ],
   "execution_count": 15
  },
  {
   "metadata": {
    "ExecuteTime": {
     "end_time": "2024-09-06T14:43:10.786106Z",
     "start_time": "2024-09-06T14:43:10.780189Z"
    }
   },
   "cell_type": "code",
   "source": [
    "optimizer = optax.adam(LEARNING_RATE)\n",
    "train_history = []\n",
    "test_history = []\n",
    "\n",
    "\n",
    "@partial(jit, static_argnames=(\"static\",))\n",
    "def train_step(params: PyTree, static: PyTree, opt_state: PyTree, x: Float[Array, \"batch 1 28 28\"],\n",
    "               y: Int[Array, \"batch\"]\n",
    "               ) -> tuple[PyTree, PyTree, FloatScalar]:\n",
    "    #jax.debug.print(\"train_step_start: {}\", params.layers[1].w)\n",
    "    value, grad = jax.value_and_grad(loss)(params, static, x, y)\n",
    "    #jax.debug.print(\"grad: {}\", grad.layers[1].w)\n",
    "    updates, opt_state = optimizer.update(grad, opt_state)\n",
    "    params = optax.apply_updates(params, updates)\n",
    "    #jax.debug.print(\"{}\", params.layers[1].w)\n",
    "    return params, opt_state, value\n",
    "\n",
    "\n",
    "def infinite_dataloader(loader):\n",
    "    while True:\n",
    "        yield from loader\n",
    "\n",
    "\n",
    "def train(model: Model, trainloader: DataLoader, testloader: DataLoader, epoch: int, interval: int) -> Model:\n",
    "    params, static = partition(model)\n",
    "    print(params.layers[1].w)\n",
    "    opt_state = optimizer.init(params)\n",
    "    for epoch, (x, y) in zip(range(epoch), infinite_dataloader(trainloader)):\n",
    "\n",
    "        x, y = x.numpy(), y.numpy()\n",
    "        params, opt_state, loss_value = train_step(params, static, opt_state, x,\n",
    "                                                   y)\n",
    "        if epoch % interval == 0:\n",
    "            avg_loss, avg_acc = evaluation(combine(params, static), testloader)\n",
    "            print(f\"Epoch: {epoch}, Loss: {avg_loss}, Accuracy: {avg_acc}\")\n",
    "            train_history.append(loss_value)\n",
    "            test_history.append(evaluation(combine(params, static), testloader)[0])\n",
    "    return combine(params, static)"
   ],
   "id": "721d9b607dcde207",
   "outputs": [],
   "execution_count": 16
  },
  {
   "metadata": {
    "ExecuteTime": {
     "end_time": "2024-09-06T14:43:11.357873Z",
     "start_time": "2024-09-06T14:43:10.826175Z"
    }
   },
   "cell_type": "code",
   "source": [
    "figure = plt.figure(figsize=(8, 8))\n",
    "rows, column = 3, 3\n",
    "for i in range(1, rows * column + 1):\n",
    "    key, sample_key = random.split(key)\n",
    "    sample_idx = int(random.randint(sample_key, shape=(1,), minval=0, maxval=len(training_dataset))[0])\n",
    "    img: Image.Image\n",
    "    label: str\n",
    "    (img, label) = training_dataset[sample_idx]\n",
    "    figure.add_subplot(rows, column, i)\n",
    "    plt.title(str(jnp.argmax(model(jnp.array(img)))))\n",
    "    plt.axis(\"off\")\n",
    "    plt.imshow(img.squeeze(), cmap=\"gray\")\n",
    "\n",
    "plt.show()"
   ],
   "id": "c178d92ed4bfadfd",
   "outputs": [
    {
     "ename": "TypeError",
     "evalue": "Invalid shape (784,) for image data",
     "output_type": "error",
     "traceback": [
      "\u001B[0;31m---------------------------------------------------------------------------\u001B[0m",
      "\u001B[0;31mTypeError\u001B[0m                                 Traceback (most recent call last)",
      "Cell \u001B[0;32mIn[17], line 12\u001B[0m\n\u001B[1;32m     10\u001B[0m     plt\u001B[38;5;241m.\u001B[39mtitle(\u001B[38;5;28mstr\u001B[39m(jnp\u001B[38;5;241m.\u001B[39margmax(model(jnp\u001B[38;5;241m.\u001B[39marray(img)))))\n\u001B[1;32m     11\u001B[0m     plt\u001B[38;5;241m.\u001B[39maxis(\u001B[38;5;124m\"\u001B[39m\u001B[38;5;124moff\u001B[39m\u001B[38;5;124m\"\u001B[39m)\n\u001B[0;32m---> 12\u001B[0m     \u001B[43mplt\u001B[49m\u001B[38;5;241;43m.\u001B[39;49m\u001B[43mimshow\u001B[49m\u001B[43m(\u001B[49m\u001B[43mimg\u001B[49m\u001B[38;5;241;43m.\u001B[39;49m\u001B[43msqueeze\u001B[49m\u001B[43m(\u001B[49m\u001B[43m)\u001B[49m\u001B[43m,\u001B[49m\u001B[43m \u001B[49m\u001B[43mcmap\u001B[49m\u001B[38;5;241;43m=\u001B[39;49m\u001B[38;5;124;43m\"\u001B[39;49m\u001B[38;5;124;43mgray\u001B[39;49m\u001B[38;5;124;43m\"\u001B[39;49m\u001B[43m)\u001B[49m\n\u001B[1;32m     14\u001B[0m plt\u001B[38;5;241m.\u001B[39mshow()\n",
      "File \u001B[0;32m~/.cache/pypoetry/virtualenvs/machinelearning-Cr8rVXQi-py3.12/lib64/python3.12/site-packages/matplotlib/pyplot.py:3562\u001B[0m, in \u001B[0;36mimshow\u001B[0;34m(X, cmap, norm, aspect, interpolation, alpha, vmin, vmax, origin, extent, interpolation_stage, filternorm, filterrad, resample, url, data, **kwargs)\u001B[0m\n\u001B[1;32m   3541\u001B[0m \u001B[38;5;129m@_copy_docstring_and_deprecators\u001B[39m(Axes\u001B[38;5;241m.\u001B[39mimshow)\n\u001B[1;32m   3542\u001B[0m \u001B[38;5;28;01mdef\u001B[39;00m \u001B[38;5;21mimshow\u001B[39m(\n\u001B[1;32m   3543\u001B[0m     X: ArrayLike \u001B[38;5;241m|\u001B[39m PIL\u001B[38;5;241m.\u001B[39mImage\u001B[38;5;241m.\u001B[39mImage,\n\u001B[0;32m   (...)\u001B[0m\n\u001B[1;32m   3560\u001B[0m     \u001B[38;5;241m*\u001B[39m\u001B[38;5;241m*\u001B[39mkwargs,\n\u001B[1;32m   3561\u001B[0m ) \u001B[38;5;241m-\u001B[39m\u001B[38;5;241m>\u001B[39m AxesImage:\n\u001B[0;32m-> 3562\u001B[0m     __ret \u001B[38;5;241m=\u001B[39m \u001B[43mgca\u001B[49m\u001B[43m(\u001B[49m\u001B[43m)\u001B[49m\u001B[38;5;241;43m.\u001B[39;49m\u001B[43mimshow\u001B[49m\u001B[43m(\u001B[49m\n\u001B[1;32m   3563\u001B[0m \u001B[43m        \u001B[49m\u001B[43mX\u001B[49m\u001B[43m,\u001B[49m\n\u001B[1;32m   3564\u001B[0m \u001B[43m        \u001B[49m\u001B[43mcmap\u001B[49m\u001B[38;5;241;43m=\u001B[39;49m\u001B[43mcmap\u001B[49m\u001B[43m,\u001B[49m\n\u001B[1;32m   3565\u001B[0m \u001B[43m        \u001B[49m\u001B[43mnorm\u001B[49m\u001B[38;5;241;43m=\u001B[39;49m\u001B[43mnorm\u001B[49m\u001B[43m,\u001B[49m\n\u001B[1;32m   3566\u001B[0m \u001B[43m        \u001B[49m\u001B[43maspect\u001B[49m\u001B[38;5;241;43m=\u001B[39;49m\u001B[43maspect\u001B[49m\u001B[43m,\u001B[49m\n\u001B[1;32m   3567\u001B[0m \u001B[43m        \u001B[49m\u001B[43minterpolation\u001B[49m\u001B[38;5;241;43m=\u001B[39;49m\u001B[43minterpolation\u001B[49m\u001B[43m,\u001B[49m\n\u001B[1;32m   3568\u001B[0m \u001B[43m        \u001B[49m\u001B[43malpha\u001B[49m\u001B[38;5;241;43m=\u001B[39;49m\u001B[43malpha\u001B[49m\u001B[43m,\u001B[49m\n\u001B[1;32m   3569\u001B[0m \u001B[43m        \u001B[49m\u001B[43mvmin\u001B[49m\u001B[38;5;241;43m=\u001B[39;49m\u001B[43mvmin\u001B[49m\u001B[43m,\u001B[49m\n\u001B[1;32m   3570\u001B[0m \u001B[43m        \u001B[49m\u001B[43mvmax\u001B[49m\u001B[38;5;241;43m=\u001B[39;49m\u001B[43mvmax\u001B[49m\u001B[43m,\u001B[49m\n\u001B[1;32m   3571\u001B[0m \u001B[43m        \u001B[49m\u001B[43morigin\u001B[49m\u001B[38;5;241;43m=\u001B[39;49m\u001B[43morigin\u001B[49m\u001B[43m,\u001B[49m\n\u001B[1;32m   3572\u001B[0m \u001B[43m        \u001B[49m\u001B[43mextent\u001B[49m\u001B[38;5;241;43m=\u001B[39;49m\u001B[43mextent\u001B[49m\u001B[43m,\u001B[49m\n\u001B[1;32m   3573\u001B[0m \u001B[43m        \u001B[49m\u001B[43minterpolation_stage\u001B[49m\u001B[38;5;241;43m=\u001B[39;49m\u001B[43minterpolation_stage\u001B[49m\u001B[43m,\u001B[49m\n\u001B[1;32m   3574\u001B[0m \u001B[43m        \u001B[49m\u001B[43mfilternorm\u001B[49m\u001B[38;5;241;43m=\u001B[39;49m\u001B[43mfilternorm\u001B[49m\u001B[43m,\u001B[49m\n\u001B[1;32m   3575\u001B[0m \u001B[43m        \u001B[49m\u001B[43mfilterrad\u001B[49m\u001B[38;5;241;43m=\u001B[39;49m\u001B[43mfilterrad\u001B[49m\u001B[43m,\u001B[49m\n\u001B[1;32m   3576\u001B[0m \u001B[43m        \u001B[49m\u001B[43mresample\u001B[49m\u001B[38;5;241;43m=\u001B[39;49m\u001B[43mresample\u001B[49m\u001B[43m,\u001B[49m\n\u001B[1;32m   3577\u001B[0m \u001B[43m        \u001B[49m\u001B[43murl\u001B[49m\u001B[38;5;241;43m=\u001B[39;49m\u001B[43murl\u001B[49m\u001B[43m,\u001B[49m\n\u001B[1;32m   3578\u001B[0m \u001B[43m        \u001B[49m\u001B[38;5;241;43m*\u001B[39;49m\u001B[38;5;241;43m*\u001B[39;49m\u001B[43m(\u001B[49m\u001B[43m{\u001B[49m\u001B[38;5;124;43m\"\u001B[39;49m\u001B[38;5;124;43mdata\u001B[39;49m\u001B[38;5;124;43m\"\u001B[39;49m\u001B[43m:\u001B[49m\u001B[43m \u001B[49m\u001B[43mdata\u001B[49m\u001B[43m}\u001B[49m\u001B[43m \u001B[49m\u001B[38;5;28;43;01mif\u001B[39;49;00m\u001B[43m \u001B[49m\u001B[43mdata\u001B[49m\u001B[43m \u001B[49m\u001B[38;5;129;43;01mis\u001B[39;49;00m\u001B[43m \u001B[49m\u001B[38;5;129;43;01mnot\u001B[39;49;00m\u001B[43m \u001B[49m\u001B[38;5;28;43;01mNone\u001B[39;49;00m\u001B[43m \u001B[49m\u001B[38;5;28;43;01melse\u001B[39;49;00m\u001B[43m \u001B[49m\u001B[43m{\u001B[49m\u001B[43m}\u001B[49m\u001B[43m)\u001B[49m\u001B[43m,\u001B[49m\n\u001B[1;32m   3579\u001B[0m \u001B[43m        \u001B[49m\u001B[38;5;241;43m*\u001B[39;49m\u001B[38;5;241;43m*\u001B[39;49m\u001B[43mkwargs\u001B[49m\u001B[43m,\u001B[49m\n\u001B[1;32m   3580\u001B[0m \u001B[43m    \u001B[49m\u001B[43m)\u001B[49m\n\u001B[1;32m   3581\u001B[0m     sci(__ret)\n\u001B[1;32m   3582\u001B[0m     \u001B[38;5;28;01mreturn\u001B[39;00m __ret\n",
      "File \u001B[0;32m~/.cache/pypoetry/virtualenvs/machinelearning-Cr8rVXQi-py3.12/lib64/python3.12/site-packages/matplotlib/__init__.py:1473\u001B[0m, in \u001B[0;36m_preprocess_data.<locals>.inner\u001B[0;34m(ax, data, *args, **kwargs)\u001B[0m\n\u001B[1;32m   1470\u001B[0m \u001B[38;5;129m@functools\u001B[39m\u001B[38;5;241m.\u001B[39mwraps(func)\n\u001B[1;32m   1471\u001B[0m \u001B[38;5;28;01mdef\u001B[39;00m \u001B[38;5;21minner\u001B[39m(ax, \u001B[38;5;241m*\u001B[39margs, data\u001B[38;5;241m=\u001B[39m\u001B[38;5;28;01mNone\u001B[39;00m, \u001B[38;5;241m*\u001B[39m\u001B[38;5;241m*\u001B[39mkwargs):\n\u001B[1;32m   1472\u001B[0m     \u001B[38;5;28;01mif\u001B[39;00m data \u001B[38;5;129;01mis\u001B[39;00m \u001B[38;5;28;01mNone\u001B[39;00m:\n\u001B[0;32m-> 1473\u001B[0m         \u001B[38;5;28;01mreturn\u001B[39;00m \u001B[43mfunc\u001B[49m\u001B[43m(\u001B[49m\n\u001B[1;32m   1474\u001B[0m \u001B[43m            \u001B[49m\u001B[43max\u001B[49m\u001B[43m,\u001B[49m\n\u001B[1;32m   1475\u001B[0m \u001B[43m            \u001B[49m\u001B[38;5;241;43m*\u001B[39;49m\u001B[38;5;28;43mmap\u001B[39;49m\u001B[43m(\u001B[49m\u001B[43msanitize_sequence\u001B[49m\u001B[43m,\u001B[49m\u001B[43m \u001B[49m\u001B[43margs\u001B[49m\u001B[43m)\u001B[49m\u001B[43m,\u001B[49m\n\u001B[1;32m   1476\u001B[0m \u001B[43m            \u001B[49m\u001B[38;5;241;43m*\u001B[39;49m\u001B[38;5;241;43m*\u001B[39;49m\u001B[43m{\u001B[49m\u001B[43mk\u001B[49m\u001B[43m:\u001B[49m\u001B[43m \u001B[49m\u001B[43msanitize_sequence\u001B[49m\u001B[43m(\u001B[49m\u001B[43mv\u001B[49m\u001B[43m)\u001B[49m\u001B[43m \u001B[49m\u001B[38;5;28;43;01mfor\u001B[39;49;00m\u001B[43m \u001B[49m\u001B[43mk\u001B[49m\u001B[43m,\u001B[49m\u001B[43m \u001B[49m\u001B[43mv\u001B[49m\u001B[43m \u001B[49m\u001B[38;5;129;43;01min\u001B[39;49;00m\u001B[43m \u001B[49m\u001B[43mkwargs\u001B[49m\u001B[38;5;241;43m.\u001B[39;49m\u001B[43mitems\u001B[49m\u001B[43m(\u001B[49m\u001B[43m)\u001B[49m\u001B[43m}\u001B[49m\u001B[43m)\u001B[49m\n\u001B[1;32m   1478\u001B[0m     bound \u001B[38;5;241m=\u001B[39m new_sig\u001B[38;5;241m.\u001B[39mbind(ax, \u001B[38;5;241m*\u001B[39margs, \u001B[38;5;241m*\u001B[39m\u001B[38;5;241m*\u001B[39mkwargs)\n\u001B[1;32m   1479\u001B[0m     auto_label \u001B[38;5;241m=\u001B[39m (bound\u001B[38;5;241m.\u001B[39marguments\u001B[38;5;241m.\u001B[39mget(label_namer)\n\u001B[1;32m   1480\u001B[0m                   \u001B[38;5;129;01mor\u001B[39;00m bound\u001B[38;5;241m.\u001B[39mkwargs\u001B[38;5;241m.\u001B[39mget(label_namer))\n",
      "File \u001B[0;32m~/.cache/pypoetry/virtualenvs/machinelearning-Cr8rVXQi-py3.12/lib64/python3.12/site-packages/matplotlib/axes/_axes.py:5895\u001B[0m, in \u001B[0;36mAxes.imshow\u001B[0;34m(self, X, cmap, norm, aspect, interpolation, alpha, vmin, vmax, origin, extent, interpolation_stage, filternorm, filterrad, resample, url, **kwargs)\u001B[0m\n\u001B[1;32m   5892\u001B[0m \u001B[38;5;28;01mif\u001B[39;00m aspect \u001B[38;5;129;01mis\u001B[39;00m \u001B[38;5;129;01mnot\u001B[39;00m \u001B[38;5;28;01mNone\u001B[39;00m:\n\u001B[1;32m   5893\u001B[0m     \u001B[38;5;28mself\u001B[39m\u001B[38;5;241m.\u001B[39mset_aspect(aspect)\n\u001B[0;32m-> 5895\u001B[0m \u001B[43mim\u001B[49m\u001B[38;5;241;43m.\u001B[39;49m\u001B[43mset_data\u001B[49m\u001B[43m(\u001B[49m\u001B[43mX\u001B[49m\u001B[43m)\u001B[49m\n\u001B[1;32m   5896\u001B[0m im\u001B[38;5;241m.\u001B[39mset_alpha(alpha)\n\u001B[1;32m   5897\u001B[0m \u001B[38;5;28;01mif\u001B[39;00m im\u001B[38;5;241m.\u001B[39mget_clip_path() \u001B[38;5;129;01mis\u001B[39;00m \u001B[38;5;28;01mNone\u001B[39;00m:\n\u001B[1;32m   5898\u001B[0m     \u001B[38;5;66;03m# image does not already have clipping set, clip to Axes patch\u001B[39;00m\n",
      "File \u001B[0;32m~/.cache/pypoetry/virtualenvs/machinelearning-Cr8rVXQi-py3.12/lib64/python3.12/site-packages/matplotlib/image.py:729\u001B[0m, in \u001B[0;36m_ImageBase.set_data\u001B[0;34m(self, A)\u001B[0m\n\u001B[1;32m    727\u001B[0m \u001B[38;5;28;01mif\u001B[39;00m \u001B[38;5;28misinstance\u001B[39m(A, PIL\u001B[38;5;241m.\u001B[39mImage\u001B[38;5;241m.\u001B[39mImage):\n\u001B[1;32m    728\u001B[0m     A \u001B[38;5;241m=\u001B[39m pil_to_array(A)  \u001B[38;5;66;03m# Needed e.g. to apply png palette.\u001B[39;00m\n\u001B[0;32m--> 729\u001B[0m \u001B[38;5;28mself\u001B[39m\u001B[38;5;241m.\u001B[39m_A \u001B[38;5;241m=\u001B[39m \u001B[38;5;28;43mself\u001B[39;49m\u001B[38;5;241;43m.\u001B[39;49m\u001B[43m_normalize_image_array\u001B[49m\u001B[43m(\u001B[49m\u001B[43mA\u001B[49m\u001B[43m)\u001B[49m\n\u001B[1;32m    730\u001B[0m \u001B[38;5;28mself\u001B[39m\u001B[38;5;241m.\u001B[39m_imcache \u001B[38;5;241m=\u001B[39m \u001B[38;5;28;01mNone\u001B[39;00m\n\u001B[1;32m    731\u001B[0m \u001B[38;5;28mself\u001B[39m\u001B[38;5;241m.\u001B[39mstale \u001B[38;5;241m=\u001B[39m \u001B[38;5;28;01mTrue\u001B[39;00m\n",
      "File \u001B[0;32m~/.cache/pypoetry/virtualenvs/machinelearning-Cr8rVXQi-py3.12/lib64/python3.12/site-packages/matplotlib/image.py:697\u001B[0m, in \u001B[0;36m_ImageBase._normalize_image_array\u001B[0;34m(A)\u001B[0m\n\u001B[1;32m    695\u001B[0m     A \u001B[38;5;241m=\u001B[39m A\u001B[38;5;241m.\u001B[39msqueeze(\u001B[38;5;241m-\u001B[39m\u001B[38;5;241m1\u001B[39m)  \u001B[38;5;66;03m# If just (M, N, 1), assume scalar and apply colormap.\u001B[39;00m\n\u001B[1;32m    696\u001B[0m \u001B[38;5;28;01mif\u001B[39;00m \u001B[38;5;129;01mnot\u001B[39;00m (A\u001B[38;5;241m.\u001B[39mndim \u001B[38;5;241m==\u001B[39m \u001B[38;5;241m2\u001B[39m \u001B[38;5;129;01mor\u001B[39;00m A\u001B[38;5;241m.\u001B[39mndim \u001B[38;5;241m==\u001B[39m \u001B[38;5;241m3\u001B[39m \u001B[38;5;129;01mand\u001B[39;00m A\u001B[38;5;241m.\u001B[39mshape[\u001B[38;5;241m-\u001B[39m\u001B[38;5;241m1\u001B[39m] \u001B[38;5;129;01min\u001B[39;00m [\u001B[38;5;241m3\u001B[39m, \u001B[38;5;241m4\u001B[39m]):\n\u001B[0;32m--> 697\u001B[0m     \u001B[38;5;28;01mraise\u001B[39;00m \u001B[38;5;167;01mTypeError\u001B[39;00m(\u001B[38;5;124mf\u001B[39m\u001B[38;5;124m\"\u001B[39m\u001B[38;5;124mInvalid shape \u001B[39m\u001B[38;5;132;01m{\u001B[39;00mA\u001B[38;5;241m.\u001B[39mshape\u001B[38;5;132;01m}\u001B[39;00m\u001B[38;5;124m for image data\u001B[39m\u001B[38;5;124m\"\u001B[39m)\n\u001B[1;32m    698\u001B[0m \u001B[38;5;28;01mif\u001B[39;00m A\u001B[38;5;241m.\u001B[39mndim \u001B[38;5;241m==\u001B[39m \u001B[38;5;241m3\u001B[39m:\n\u001B[1;32m    699\u001B[0m     \u001B[38;5;66;03m# If the input data has values outside the valid range (after\u001B[39;00m\n\u001B[1;32m    700\u001B[0m     \u001B[38;5;66;03m# normalisation), we issue a warning and then clip X to the bounds\u001B[39;00m\n\u001B[1;32m    701\u001B[0m     \u001B[38;5;66;03m# - otherwise casting wraps extreme values, hiding outliers and\u001B[39;00m\n\u001B[1;32m    702\u001B[0m     \u001B[38;5;66;03m# making reliable interpretation impossible.\u001B[39;00m\n\u001B[1;32m    703\u001B[0m     high \u001B[38;5;241m=\u001B[39m \u001B[38;5;241m255\u001B[39m \u001B[38;5;28;01mif\u001B[39;00m np\u001B[38;5;241m.\u001B[39missubdtype(A\u001B[38;5;241m.\u001B[39mdtype, np\u001B[38;5;241m.\u001B[39minteger) \u001B[38;5;28;01melse\u001B[39;00m \u001B[38;5;241m1\u001B[39m\n",
      "\u001B[0;31mTypeError\u001B[0m: Invalid shape (784,) for image data"
     ]
    },
    {
     "data": {
      "text/plain": [
       "<Figure size 800x800 with 1 Axes>"
      ],
      "image/png": "[encoded data removed]"
     },
     "metadata": {},
     "output_type": "display_data"
    }
   ],
   "execution_count": 17
  },
  {
   "metadata": {
    "ExecuteTime": {
     "end_time": "2024-09-06T14:45:46.743452Z",
     "start_time": "2024-09-06T14:43:17.456144Z"
    }
   },
   "cell_type": "code",
   "source": [
    "print(params.layers[0])\n",
    "model = train(model, trainloader, testloader, EPOCHES, PRINT_INTERVAL)\n",
    "print(model.layers[1])"
   ],
   "id": "eb70ea163ef59937",
   "outputs": [
    {
     "name": "stdout",
     "output_type": "stream",
     "text": [
      "Dense(units=None, w.shape=(256, 784), activation=None)\n",
      "[[ 0.31841344 -0.28364566  0.93150246 ...  0.6423392  -0.84715605\n",
      "   1.3805236 ]\n",
      " [-0.06245933 -2.503396   -0.38665345 ... -1.3413899   0.08784661\n",
      "   0.71105254]\n",
      " [-0.21208242  0.91559064  0.04708415 ... -0.47722173 -0.23170084\n",
      "  -1.0912762 ]\n",
      " ...\n",
      " [-0.10328253  1.500601    0.91901124 ... -2.863092    1.2168186\n",
      "   0.36090964]\n",
      " [-0.25708923 -1.0512546   0.7534251  ... -1.8426236  -1.636679\n",
      "   0.6932188 ]\n",
      " [ 0.18459518 -1.4920831  -0.26703048 ...  0.5660823  -0.3408005\n",
      "  -1.3818976 ]]\n",
      "Epoch: 0, Loss: 68.52972412109375, Accuracy: 0.06409236043691635\n",
      "Epoch: 30, Loss: 43.55037307739258, Accuracy: 0.05573248490691185\n",
      "Epoch: 60, Loss: 25.328344345092773, Accuracy: 0.05394108220934868\n",
      "Epoch: 90, Loss: 14.92131233215332, Accuracy: 0.057026274502277374\n",
      "Epoch: 120, Loss: 9.527460098266602, Accuracy: 0.06369426846504211\n",
      "Epoch: 150, Loss: 6.787137508392334, Accuracy: 0.0666799396276474\n",
      "Epoch: 180, Loss: 5.22666597366333, Accuracy: 0.07115843892097473\n",
      "Epoch: 210, Loss: 4.458701133728027, Accuracy: 0.07454220205545425\n",
      "Epoch: 240, Loss: 3.9064347743988037, Accuracy: 0.07931926846504211\n",
      "Epoch: 270, Loss: 3.4850759506225586, Accuracy: 0.0833001583814621\n",
      "Epoch: 300, Loss: 3.2900068759918213, Accuracy: 0.0833001583814621\n",
      "Epoch: 330, Loss: 3.1546621322631836, Accuracy: 0.08379777520895004\n",
      "Epoch: 360, Loss: 3.0121822357177734, Accuracy: 0.0843949019908905\n",
      "Epoch: 390, Loss: 2.881723642349243, Accuracy: 0.08638535439968109\n",
      "Epoch: 420, Loss: 2.809353828430176, Accuracy: 0.08738057315349579\n",
      "Epoch: 450, Loss: 2.739248037338257, Accuracy: 0.08797770738601685\n",
      "Epoch: 480, Loss: 2.693324327468872, Accuracy: 0.0885748416185379\n",
      "Epoch: 510, Loss: 2.6610255241394043, Accuracy: 0.08887340873479843\n",
      "Epoch: 540, Loss: 2.6373162269592285, Accuracy: 0.08976911008358002\n",
      "Epoch: 570, Loss: 2.6124792098999023, Accuracy: 0.08976911008358002\n",
      "Epoch: 600, Loss: 2.5746395587921143, Accuracy: 0.09016720205545425\n",
      "Epoch: 630, Loss: 2.553870439529419, Accuracy: 0.09006767719984055\n",
      "Epoch: 660, Loss: 2.5305051803588867, Accuracy: 0.09106289595365524\n",
      "Epoch: 690, Loss: 2.5047264099121094, Accuracy: 0.09215764701366425\n",
      "Epoch: 720, Loss: 2.478606939315796, Accuracy: 0.09215764701366425\n",
      "Epoch: 750, Loss: 2.4601616859436035, Accuracy: 0.09285429865121841\n",
      "Epoch: 780, Loss: 2.442732810974121, Accuracy: 0.09335191547870636\n",
      "Epoch: 810, Loss: 2.430651903152466, Accuracy: 0.09365048259496689\n",
      "Epoch: 840, Loss: 2.4241702556610107, Accuracy: 0.09375\n",
      "Epoch: 870, Loss: 2.4161903858184814, Accuracy: 0.09375\n",
      "Epoch: 900, Loss: 2.4060592651367188, Accuracy: 0.09404856711626053\n",
      "Epoch: 930, Loss: 2.4036595821380615, Accuracy: 0.09414809197187424\n",
      "Epoch: 960, Loss: 2.3980720043182373, Accuracy: 0.09414809197187424\n",
      "Epoch: 990, Loss: 2.3930156230926514, Accuracy: 0.09424760937690735\n",
      "Dense(units=10, w.shape=(10, 256), b.shape=(10,), activation=<PjitFunction of <function log_sigmoid at 0x7f2c20162480>>)\n"
     ]
    }
   ],
   "execution_count": 18
  },
  {
   "metadata": {
    "ExecuteTime": {
     "end_time": "2024-09-06T14:45:59.611173Z",
     "start_time": "2024-09-06T14:45:57.568695Z"
    }
   },
   "cell_type": "code",
   "source": "evaluation(model, testloader)",
   "id": "e1bf665ee59c795",
   "outputs": [
    {
     "data": {
      "text/plain": [
       "(Array(2.3909817, dtype=float32), Array(0.09424761, dtype=float32))"
      ]
     },
     "execution_count": 19,
     "metadata": {},
     "output_type": "execute_result"
    }
   ],
   "execution_count": 19
  },
  {
   "metadata": {
    "ExecuteTime": {
     "end_time": "2024-09-06T14:45:59.777073Z",
     "start_time": "2024-09-06T14:45:59.677116Z"
    }
   },
   "cell_type": "code",
   "source": [
    "plt.plot(test_history, label=\"test\")\n",
    "plt.plot(train_history, label=\"train\")\n",
    "plt.legend()\n",
    "plt.xlabel(\"Epoch\")\n",
    "plt.ylabel(\"Loss\")\n",
    "plt.show()"
   ],
   "id": "e3fc8c766879aae5",
   "outputs": [
    {
     "data": {
      "text/plain": [
       "<Figure size 640x480 with 1 Axes>"
      ],
      "image/png": "[encoded data removed]"
     },
     "metadata": {},
     "output_type": "display_data"
    }
   ],
   "execution_count": 20
  },
  {
   "metadata": {
    "ExecuteTime": {
     "end_time": "2024-09-06T15:01:09.117971Z",
     "start_time": "2024-09-06T15:01:09.085704Z"
    }
   },
   "cell_type": "code",
   "source": [
    "figure = plt.figure(figsize=(8, 8))\n",
    "rows, column = 3, 3\n",
    "for i in range(1, rows * column + 1):\n",
    "    key, sample_key = random.split(key)\n",
    "    sample_idx = int(random.randint(sample_key, shape=(1,), minval=0, maxval=len(training_dataset))[0])\n",
    "    img: Image.Image\n",
    "    label: str\n",
    "    (img, label) = training_dataset[sample_idx]\n",
    "    #figure.add_subplot(rows, column, i)\n",
    "    print((model(jnp.array(img))))\n",
    "    print(label)\n",
    "    #plt.title(str(jnp.argmax(model(jnp.array(img)))))\n",
    "    #plt.axis(\"off\")\n",
    "    #plt.imshow(img.squeeze(), cmap=\"gray\")\n",
    "\n",
    "plt.show()"
   ],
   "id": "4ec994e779581089",
   "outputs": [
    {
     "name": "stdout",
     "output_type": "stream",
     "text": [
      "[-0.0000e+00 -0.0000e+00 -0.0000e+00 -0.0000e+00 -0.0000e+00 -0.0000e+00\n",
      " -0.0000e+00 -0.0000e+00 -8.5406e-41 -0.0000e+00]\n",
      "5\n",
      "[-0.0000000e+00 -0.0000000e+00 -0.0000000e+00 -0.0000000e+00\n",
      " -0.0000000e+00 -0.0000000e+00 -0.0000000e+00 -0.0000000e+00\n",
      " -0.0000000e+00 -2.4663535e-37]\n",
      "9\n",
      "[-0.0000000e+00 -0.0000000e+00 -0.0000000e+00 -0.0000000e+00\n",
      " -0.0000000e+00 -0.0000000e+00 -8.6142225e-17 -0.0000000e+00\n",
      " -0.0000000e+00 -0.0000000e+00]\n",
      "9\n",
      "[-0. -0. -0. -0. -0. -0. -0. -0. -0. -0.]\n",
      "8\n",
      "[-0.0000000e+00 -0.0000000e+00 -0.0000000e+00 -0.0000000e+00\n",
      " -0.0000000e+00 -0.0000000e+00 -0.0000000e+00 -0.0000000e+00\n",
      " -0.0000000e+00 -1.6814834e-11]\n",
      "3\n",
      "[-0.0000000e+00 -0.0000000e+00 -0.0000000e+00 -0.0000000e+00\n",
      " -2.8325804e-21 -0.0000000e+00 -0.0000000e+00 -0.0000000e+00\n",
      " -0.0000000e+00 -0.0000000e+00]\n",
      "0\n",
      "[-0. -0. -0. -0. -0. -0. -0. -0. -0. -0.]\n",
      "9\n",
      "[-0.000000e+00 -0.000000e+00 -0.000000e+00 -2.802597e-45 -0.000000e+00\n",
      " -0.000000e+00 -2.558708e-08 -0.000000e+00 -0.000000e+00 -0.000000e+00]\n",
      "1\n",
      "[-0.000000e+00 -0.000000e+00 -0.000000e+00 -0.000000e+00 -0.000000e+00\n",
      " -0.000000e+00 -8.768156e-39 -8.848538e-37 -0.000000e+00 -0.000000e+00]\n",
      "8\n"
     ]
    },
    {
     "data": {
      "text/plain": [
       "<Figure size 800x800 with 0 Axes>"
      ]
     },
     "metadata": {},
     "output_type": "display_data"
    }
   ],
   "execution_count": 26
  },
  {
   "metadata": {
    "ExecuteTime": {
     "end_time": "2024-09-06T14:42:40.139920011Z",
     "start_time": "2024-09-06T14:35:50.562453Z"
    }
   },
   "cell_type": "code",
   "source": "",
   "id": "2c69764aca47a1ae",
   "outputs": [],
   "execution_count": null
  },
  {
   "metadata": {
    "ExecuteTime": {
     "end_time": "2024-09-06T14:42:40.145586973Z",
     "start_time": "2024-09-06T14:35:50.604529Z"
    }
   },
   "cell_type": "code",
   "source": "",
   "id": "ac1cd315bca5f25c",
   "outputs": [],
   "execution_count": null
  }
 ],
 "metadata": {
  "kernelspec": {
   "display_name": "Python 3",
   "language": "python",
   "name": "python3"
  },
  "language_info": {
   "codemirror_mode": {
    "name": "ipython",
    "version": 2
   },
   "file_extension": ".py",
   "mimetype": "text/x-python",
   "name": "python",
   "nbconvert_exporter": "python",
   "pygments_lexer": "ipython2",
   "version": "2.7.6"
  }
 },
 "nbformat": 4,
 "nbformat_minor": 5
}
